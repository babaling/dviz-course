{
 "cells": [
  {
   "cell_type": "code",
   "execution_count": 1,
   "metadata": {},
   "outputs": [],
   "source": [
    "import pandas as pd\n",
    "import numpy as np"
   ]
  },
  {
   "cell_type": "markdown",
   "metadata": {},
   "source": [
    "# (1) Data Preprocessing"
   ]
  },
  {
   "cell_type": "markdown",
   "metadata": {},
   "source": [
    "먼저 manual하게 데이터 중에서 이름이 Hong_Kong,China 이런식으로 되어 있는 애들은 delimeter를 ,로 해서 csv 파일을 읽어올 때 오류를 일으키기 때문에 manual 하게 없애주었다. Macau_,China랑 2가지가 문제였다. "
   ]
  },
  {
   "cell_type": "code",
   "execution_count": 2,
   "metadata": {},
   "outputs": [
    {
     "name": "stderr",
     "output_type": "stream",
     "text": [
      "/tmp/ipykernel_2799374/2069334829.py:37: FutureWarning: DataFrame.applymap has been deprecated. Use DataFrame.map instead.\n",
      "  all_data = all_data.applymap(lambda x: x.strip() if isinstance(x, str) else x)\n"
     ]
    }
   ],
   "source": [
    "def preprocessing():\n",
    "    # 데이터 로드\n",
    "    DP01 = pd.read_csv('data/wmo_normals_9120_DP01.csv')\n",
    "    MNVP = pd.read_csv('data/wmo_normals_9120_MNVP.csv')\n",
    "    MSLP = pd.read_csv('data/wmo_normals_9120_MSLP.csv')\n",
    "    PRCP = pd.read_csv('data/wmo_normals_9120_PRCP.csv')\n",
    "    TAVG = pd.read_csv('data/wmo_normals_9120_TAVG.csv')\n",
    "    TMAX = pd.read_csv('data/wmo_normals_9120_TMAX.csv')\n",
    "    TMIN = pd.read_csv('data/wmo_normals_9120_TMIN.csv')\n",
    "    TSUN = pd.read_csv('data/wmo_normals_9120_TSUN.csv')\n",
    "\n",
    "    # 데이터 전처리\n",
    "    datasets = [DP01, MNVP, MSLP, PRCP, TAVG, TMAX, TMIN, TSUN]\n",
    "    param_map = {\n",
    "        1: 'Precipitation (mm)',\n",
    "        2: 'Number of Days with Precipitation ≥ 1 mm (#Days)',\n",
    "        3: 'Mean Daily Maximum Temperature (degC)',\n",
    "        4: 'Mean Daily Minimum Temperature (degC)',\n",
    "        5: 'Mean Daily Mean Temperature (degC)',\n",
    "        6: 'Mean Sea Level Pressure (hPa)',\n",
    "        7: 'Mean Vapor Pressure (hPa)',\n",
    "        8: 'Total Number of Hours of Sunshine (Hours)'\n",
    "    }\n",
    "\n",
    "    def clean_columns(df):\n",
    "        df.columns = df.columns.str.strip()\n",
    "        return df\n",
    "\n",
    "    datasets = [clean_columns(df) for df in datasets]\n",
    "    all_data = pd.concat(datasets, ignore_index=True)\n",
    "    all_data = all_data.drop(columns=['Rgn', 'ID', 'WIGOS_ID', 'Elevation', 'Annual'])\n",
    "\n",
    "    # Parameter 컬럼 추가\n",
    "    all_data['Parameter'] = all_data['Elem'].map(param_map)\n",
    "\n",
    "    # 데이터 앞뒤 공백 제거\n",
    "    all_data = all_data.applymap(lambda x: x.strip() if isinstance(x, str) else x)\n",
    "\n",
    "    # 데이터가 -99.9인 경우는 값이 없는 경우이므로 NaN으로 바꿈.\n",
    "    all_data = all_data.replace(-99.9, np.nan)\n",
    "\n",
    "    # nan 값이 있는 행 제거\n",
    "    all_data = all_data.dropna()\n",
    "    \n",
    "    # Save the all_data DataFrame to a new CSV file\n",
    "    all_data.to_csv('data.csv', index=False)\n",
    "\n",
    "    return all_data\n",
    "\n",
    "# Call the preprocessing function\n",
    "df = preprocessing()"
   ]
  },
  {
   "cell_type": "code",
   "execution_count": 3,
   "metadata": {},
   "outputs": [
    {
     "data": {
      "text/plain": [
       "(36742, 18)"
      ]
     },
     "execution_count": 3,
     "metadata": {},
     "output_type": "execute_result"
    }
   ],
   "source": [
    "df.shape"
   ]
  },
  {
   "cell_type": "code",
   "execution_count": 4,
   "metadata": {},
   "outputs": [
    {
     "data": {
      "text/plain": [
       "Index(['Elem', 'Latitude', 'Longitude', 'Country', 'Station', 'Jan', 'Feb',\n",
       "       'Mar', 'Apr', 'May', 'Jun', 'Jul', 'Aug', 'Sep', 'Oct', 'Nov', 'Dec',\n",
       "       'Parameter'],\n",
       "      dtype='object')"
      ]
     },
     "execution_count": 4,
     "metadata": {},
     "output_type": "execute_result"
    }
   ],
   "source": [
    "df.columns"
   ]
  },
  {
   "cell_type": "code",
   "execution_count": 5,
   "metadata": {},
   "outputs": [
    {
     "data": {
      "text/html": [
       "<div>\n",
       "<style scoped>\n",
       "    .dataframe tbody tr th:only-of-type {\n",
       "        vertical-align: middle;\n",
       "    }\n",
       "\n",
       "    .dataframe tbody tr th {\n",
       "        vertical-align: top;\n",
       "    }\n",
       "\n",
       "    .dataframe thead th {\n",
       "        text-align: right;\n",
       "    }\n",
       "</style>\n",
       "<table border=\"1\" class=\"dataframe\">\n",
       "  <thead>\n",
       "    <tr style=\"text-align: right;\">\n",
       "      <th></th>\n",
       "      <th>Elem</th>\n",
       "      <th>Latitude</th>\n",
       "      <th>Longitude</th>\n",
       "      <th>Country</th>\n",
       "      <th>Station</th>\n",
       "      <th>Jan</th>\n",
       "      <th>Feb</th>\n",
       "      <th>Mar</th>\n",
       "      <th>Apr</th>\n",
       "      <th>May</th>\n",
       "      <th>Jun</th>\n",
       "      <th>Jul</th>\n",
       "      <th>Aug</th>\n",
       "      <th>Sep</th>\n",
       "      <th>Oct</th>\n",
       "      <th>Nov</th>\n",
       "      <th>Dec</th>\n",
       "      <th>Parameter</th>\n",
       "    </tr>\n",
       "  </thead>\n",
       "  <tbody>\n",
       "    <tr>\n",
       "      <th>0</th>\n",
       "      <td>2</td>\n",
       "      <td>27.837</td>\n",
       "      <td>-0.194</td>\n",
       "      <td>Algeria</td>\n",
       "      <td>Adrar</td>\n",
       "      <td>0.4</td>\n",
       "      <td>0.3</td>\n",
       "      <td>0.3</td>\n",
       "      <td>0.3</td>\n",
       "      <td>0.2</td>\n",
       "      <td>0.1</td>\n",
       "      <td>0.1</td>\n",
       "      <td>0.3</td>\n",
       "      <td>0.5</td>\n",
       "      <td>0.4</td>\n",
       "      <td>0.4</td>\n",
       "      <td>0.1</td>\n",
       "      <td>Number of Days with Precipitation ≥ 1 mm (#Days)</td>\n",
       "    </tr>\n",
       "    <tr>\n",
       "      <th>1</th>\n",
       "      <td>2</td>\n",
       "      <td>32.752</td>\n",
       "      <td>-0.594</td>\n",
       "      <td>Algeria</td>\n",
       "      <td>AinSefra</td>\n",
       "      <td>2.8</td>\n",
       "      <td>2.4</td>\n",
       "      <td>3.1</td>\n",
       "      <td>2.5</td>\n",
       "      <td>2.1</td>\n",
       "      <td>1.4</td>\n",
       "      <td>1.1</td>\n",
       "      <td>2.9</td>\n",
       "      <td>3.7</td>\n",
       "      <td>3.2</td>\n",
       "      <td>2.9</td>\n",
       "      <td>2.3</td>\n",
       "      <td>Number of Days with Precipitation ≥ 1 mm (#Days)</td>\n",
       "    </tr>\n",
       "    <tr>\n",
       "      <th>2</th>\n",
       "      <td>2</td>\n",
       "      <td>36.690</td>\n",
       "      <td>3.217</td>\n",
       "      <td>Algeria</td>\n",
       "      <td>AlgerDarElBeida</td>\n",
       "      <td>8.4</td>\n",
       "      <td>8.7</td>\n",
       "      <td>7.0</td>\n",
       "      <td>6.1</td>\n",
       "      <td>4.3</td>\n",
       "      <td>1.4</td>\n",
       "      <td>0.4</td>\n",
       "      <td>1.4</td>\n",
       "      <td>4.0</td>\n",
       "      <td>5.4</td>\n",
       "      <td>9.2</td>\n",
       "      <td>8.2</td>\n",
       "      <td>Number of Days with Precipitation ≥ 1 mm (#Days)</td>\n",
       "    </tr>\n",
       "    <tr>\n",
       "      <th>3</th>\n",
       "      <td>2</td>\n",
       "      <td>36.822</td>\n",
       "      <td>7.803</td>\n",
       "      <td>Algeria</td>\n",
       "      <td>Annaba</td>\n",
       "      <td>10.3</td>\n",
       "      <td>10.2</td>\n",
       "      <td>8.2</td>\n",
       "      <td>7.0</td>\n",
       "      <td>4.7</td>\n",
       "      <td>2.0</td>\n",
       "      <td>0.6</td>\n",
       "      <td>1.8</td>\n",
       "      <td>6.2</td>\n",
       "      <td>7.2</td>\n",
       "      <td>10.0</td>\n",
       "      <td>10.8</td>\n",
       "      <td>Number of Days with Precipitation ≥ 1 mm (#Days)</td>\n",
       "    </tr>\n",
       "    <tr>\n",
       "      <th>4</th>\n",
       "      <td>2</td>\n",
       "      <td>35.761</td>\n",
       "      <td>6.320</td>\n",
       "      <td>Algeria</td>\n",
       "      <td>Batna</td>\n",
       "      <td>5.1</td>\n",
       "      <td>4.6</td>\n",
       "      <td>5.5</td>\n",
       "      <td>5.2</td>\n",
       "      <td>5.1</td>\n",
       "      <td>2.2</td>\n",
       "      <td>1.7</td>\n",
       "      <td>3.0</td>\n",
       "      <td>4.6</td>\n",
       "      <td>4.2</td>\n",
       "      <td>4.3</td>\n",
       "      <td>5.2</td>\n",
       "      <td>Number of Days with Precipitation ≥ 1 mm (#Days)</td>\n",
       "    </tr>\n",
       "  </tbody>\n",
       "</table>\n",
       "</div>"
      ],
      "text/plain": [
       "   Elem  Latitude  Longitude  Country          Station   Jan   Feb  Mar  Apr  \\\n",
       "0     2    27.837     -0.194  Algeria            Adrar   0.4   0.3  0.3  0.3   \n",
       "1     2    32.752     -0.594  Algeria         AinSefra   2.8   2.4  3.1  2.5   \n",
       "2     2    36.690      3.217  Algeria  AlgerDarElBeida   8.4   8.7  7.0  6.1   \n",
       "3     2    36.822      7.803  Algeria           Annaba  10.3  10.2  8.2  7.0   \n",
       "4     2    35.761      6.320  Algeria            Batna   5.1   4.6  5.5  5.2   \n",
       "\n",
       "   May  Jun  Jul  Aug  Sep  Oct   Nov   Dec  \\\n",
       "0  0.2  0.1  0.1  0.3  0.5  0.4   0.4   0.1   \n",
       "1  2.1  1.4  1.1  2.9  3.7  3.2   2.9   2.3   \n",
       "2  4.3  1.4  0.4  1.4  4.0  5.4   9.2   8.2   \n",
       "3  4.7  2.0  0.6  1.8  6.2  7.2  10.0  10.8   \n",
       "4  5.1  2.2  1.7  3.0  4.6  4.2   4.3   5.2   \n",
       "\n",
       "                                          Parameter  \n",
       "0  Number of Days with Precipitation ≥ 1 mm (#Days)  \n",
       "1  Number of Days with Precipitation ≥ 1 mm (#Days)  \n",
       "2  Number of Days with Precipitation ≥ 1 mm (#Days)  \n",
       "3  Number of Days with Precipitation ≥ 1 mm (#Days)  \n",
       "4  Number of Days with Precipitation ≥ 1 mm (#Days)  "
      ]
     },
     "execution_count": 5,
     "metadata": {},
     "output_type": "execute_result"
    }
   ],
   "source": [
    "df.head()"
   ]
  },
  {
   "cell_type": "markdown",
   "metadata": {},
   "source": [
    "# (2) 본격적으로 구현!"
   ]
  },
  {
   "cell_type": "code",
   "execution_count": 6,
   "metadata": {},
   "outputs": [],
   "source": [
    "import pandas as pd\n",
    "import altair as alt\n",
    "from ipywidgets import interact, widgets\n",
    "from vega_datasets import data\n",
    "import pandas as pd\n",
    "import altair as alt\n",
    "from vega_datasets import data\n",
    "import ipywidgets as widgets\n",
    "from IPython.display import display\n",
    "from ipywidgets import Output\n",
    "\n",
    "# Altair 데이터 변환 설정\n",
    "alt.data_transformers.disable_max_rows()\n",
    "\n",
    "param_map = {\n",
    "    1: 'Precipitation (mm)',\n",
    "    2: 'Number of Days with Precipitation ≥ 1 mm (#Days)',\n",
    "    3: 'Mean Daily Maximum Temperature (degC)',\n",
    "    4: 'Mean Daily Minimum Temperature (degC)',\n",
    "    5: 'Mean Daily Mean Temperature (degC)',\n",
    "    6: 'Mean Sea Level Pressure (hPa)',\n",
    "    7: 'Mean Vapor Pressure (hPa)',\n",
    "    8: 'Total Number of Hours of Sunshine (Hours)'\n",
    "}\n",
    "\n",
    "months = ['Jan', 'Feb', 'Mar', 'Apr', 'May', 'Jun', 'Jul', 'Aug', 'Sep', 'Oct', 'Nov', 'Dec']"
   ]
  },
  {
   "cell_type": "code",
   "execution_count": null,
   "metadata": {},
   "outputs": [
    {
     "data": {
      "application/vnd.jupyter.widget-view+json": {
       "model_id": "eb1e0c1b8c2e43ca9570f018be0feb6c",
       "version_major": 2,
       "version_minor": 0
      },
      "text/plain": [
       "interactive(children=(Dropdown(description='Parameter:', options=('Precipitation (mm)', 'Number of Days with P…"
      ]
     },
     "metadata": {},
     "output_type": "display_data"
    },
    {
     "data": {
      "text/plain": [
       "<function __main__.update(selected_param, selected_month)>"
      ]
     },
     "execution_count": 7,
     "metadata": {},
     "output_type": "execute_result"
    }
   ],
   "source": [
    "# Altair 지도 데이터\n",
    "world_map = alt.topo_feature(data.world_110m.url, feature=\"countries\")\n",
    "\n",
    "def plot_heatmap(selected_param, selected_month):\n",
    "    # 선택된 파라미터와 월 기준으로 데이터 필터링\n",
    "    filtered = df[df['Parameter'] == selected_param]\n",
    "\n",
    "    # Heatmap 생성\n",
    "    background = alt.Chart(world_map).mark_geoshape(\n",
    "        fill='lightgray',\n",
    "        stroke='white'\n",
    "    ).project('naturalEarth1').properties(\n",
    "        width=800,\n",
    "        height=400\n",
    "    )\n",
    "\n",
    "    heatmap = alt.Chart(filtered).mark_circle().encode(\n",
    "        longitude='Longitude:Q',\n",
    "        latitude='Latitude:Q',\n",
    "        color=alt.Color(f'{selected_month}:Q', scale=alt.Scale(scheme='viridis')),\n",
    "        size=alt.Size(f'{selected_month}:Q', title='Intensity'),\n",
    "        tooltip=[\n",
    "            'Station:N',                   # 지점 이름\n",
    "            'Country:N',                   # 국가 이름\n",
    "            'Latitude:Q',                  # 위도 추가\n",
    "            'Longitude:Q',                 # 경도 추가\n",
    "            alt.Tooltip(f'{selected_month}:Q', title=selected_param)  # 선택된 파라미터 값\n",
    "        ]\n",
    "    )\n",
    "\n",
    "    return background + heatmap\n",
    "\n",
    "# 파라미터 선택 위젯\n",
    "param_dropdown = widgets.Dropdown(\n",
    "    options=list(param_map.values()),\n",
    "    value='Precipitation (mm)',\n",
    "    description='Parameter:'\n",
    ")\n",
    "\n",
    "# 월 선택 위젯\n",
    "month_dropdown = widgets.Dropdown(\n",
    "    options=months,\n",
    "    value='Jan',\n",
    "    description='Month:'\n",
    ")\n",
    "\n",
    "def update(selected_param, selected_month):\n",
    "    chart = plot_heatmap(selected_param, selected_month)\n",
    "    chart.display()\n",
    "\n",
    "interact(\n",
    "    update,\n",
    "    selected_param=param_dropdown,\n",
    "    selected_month=month_dropdown,\n",
    ")"
   ]
  },
  {
   "cell_type": "code",
   "execution_count": 10,
   "metadata": {},
   "outputs": [
    {
     "data": {
      "application/vnd.jupyter.widget-view+json": {
       "model_id": "9b446ec040f44fa1a63bd3700371b1a4",
       "version_major": 2,
       "version_minor": 0
      },
      "text/plain": [
       "VBox(children=(Dropdown(description='Parameter:', index=1, options=('Precipitation (mm)', 'Number of Days with…"
      ]
     },
     "metadata": {},
     "output_type": "display_data"
    },
    {
     "data": {
      "application/vnd.jupyter.widget-view+json": {
       "model_id": "32c8d705f20d4337acdab34639803eef",
       "version_major": 2,
       "version_minor": 0
      },
      "text/plain": [
       "Output()"
      ]
     },
     "metadata": {},
     "output_type": "display_data"
    }
   ],
   "source": [
    "# 필터링 슬라이더\n",
    "slider = widgets.FloatRangeSlider(\n",
    "    value=[0, 100],\n",
    "    min=0,\n",
    "    max=500,\n",
    "    step=1,\n",
    "    description='Filter:',\n",
    "    layout=widgets.Layout(width='80%')\n",
    ")\n",
    "\n",
    "# Output 위젯\n",
    "output = Output()\n",
    "\n",
    "# 최소/최대값 계산 함수\n",
    "def calculate_min_max(selected_param, selected_month):\n",
    "    filtered = df[df['Parameter'] == selected_param]\n",
    "    min_val = filtered[selected_month].min()\n",
    "    max_val = filtered[selected_month].max()\n",
    "    return min_val, max_val\n",
    "\n",
    "# 슬라이더 업데이트 함수\n",
    "def update_slider(selected_param, selected_month):\n",
    "    min_val, max_val = calculate_min_max(selected_param, selected_month)\n",
    "    slider.min = min_val\n",
    "    slider.max = max_val\n",
    "    slider.value = [min_val, max_val]\n",
    "\n",
    "# 깃발 추가 함수\n",
    "def add_flags(selected_param, selected_month, value_range):\n",
    "    min_val, max_val = value_range\n",
    "    filtered = df[\n",
    "        (df['Parameter'] == selected_param) &\n",
    "        (df[selected_month] >= min_val) &\n",
    "        (df[selected_month] <= max_val)\n",
    "    ]\n",
    "\n",
    "    points = alt.Chart(filtered).mark_text(text=\"🚩\", size=10, color='red').encode(\n",
    "        longitude='Longitude:Q',\n",
    "        latitude='Latitude:Q',\n",
    "        tooltip=[\n",
    "            'Station:N',                   # 지점 이름\n",
    "            'Country:N',                   # 국가 이름\n",
    "            'Latitude:Q',                  # 위도 추가\n",
    "            'Longitude:Q',                 # 경도 추가\n",
    "            alt.Tooltip(f'{selected_month}:Q', title=selected_param)  # 선택된 파라미터 값\n",
    "        ]\n",
    "    )\n",
    "\n",
    "    return points\n",
    "\n",
    "# 업데이트 함수\n",
    "def update_plot(change=None):\n",
    "    with output:\n",
    "        # Output 위젯 초기화\n",
    "        output.clear_output()\n",
    "        \n",
    "        # 현재 선택 상태\n",
    "        selected_param = param_dropdown.value\n",
    "        selected_month = month_dropdown.value\n",
    "        value_range = slider.value\n",
    "\n",
    "        # Heatmap 생성\n",
    "        heatmap_chart = plot_heatmap(selected_param, selected_month)\n",
    "\n",
    "        # 깃발 추가\n",
    "        flag_chart = add_flags(selected_param, selected_month, value_range)\n",
    "\n",
    "        # 두 차트 결합\n",
    "        chart = heatmap_chart + flag_chart\n",
    "\n",
    "        # 차트 표시\n",
    "        display(chart)\n",
    "\n",
    "# 이벤트 핸들러 등록\n",
    "param_dropdown.observe(update_plot, names='value')\n",
    "month_dropdown.observe(update_plot, names='value')\n",
    "slider.observe(update_plot, names='value')\n",
    "\n",
    "# 슬라이더 동적 업데이트\n",
    "def update_slider_on_change(change):\n",
    "    selected_param = param_dropdown.value\n",
    "    selected_month = month_dropdown.value\n",
    "    update_slider(selected_param, selected_month)\n",
    "\n",
    "param_dropdown.observe(update_slider_on_change, names='value')\n",
    "month_dropdown.observe(update_slider_on_change, names='value')\n",
    "\n",
    "# UI 표시\n",
    "ui = widgets.VBox([param_dropdown, month_dropdown, slider])\n",
    "display(ui, output)\n",
    "\n",
    "# 초기 차트 표시\n",
    "update_plot()"
   ]
  },
  {
   "cell_type": "code",
   "execution_count": 9,
   "metadata": {},
   "outputs": [
    {
     "data": {
      "application/vnd.jupyter.widget-view+json": {
       "model_id": "1ec30909b85a45caa33e906b65cebdbd",
       "version_major": 2,
       "version_minor": 0
      },
      "text/plain": [
       "VBox(children=(Dropdown(description='Parameter:', options=('Precipitation (mm)', 'Number of Days with Precipit…"
      ]
     },
     "metadata": {},
     "output_type": "display_data"
    }
   ],
   "source": [
    "# Output 위젯\n",
    "output_table = Output()\n",
    "\n",
    "# 깃발이 꽂힌 나라와 지역을 표 형식으로 출력하는 함수\n",
    "def display_flagged_locations(selected_param, selected_month, value_range):\n",
    "    min_val, max_val = value_range\n",
    "    filtered = df[\n",
    "        (df['Parameter'] == selected_param) &\n",
    "        (df[selected_month] >= min_val) &\n",
    "        (df[selected_month] <= max_val)\n",
    "    ]\n",
    "    \n",
    "    with output_table:\n",
    "        output_table.clear_output()\n",
    "        display(filtered[['Country', 'Station', 'Latitude', 'Longitude', selected_month]])\n",
    "\n",
    "# 업데이트 함수에 표 출력 추가\n",
    "def update_plot_with_table(change=None):\n",
    "    with output:\n",
    "        # Output 위젯 초기화\n",
    "        output.clear_output()\n",
    "        \n",
    "        # 현재 선택 상태\n",
    "        selected_param = param_dropdown.value\n",
    "        selected_month = month_dropdown.value\n",
    "        value_range = slider.value\n",
    "\n",
    "        # Heatmap 생성\n",
    "        heatmap_chart = plot_heatmap(selected_param, selected_month)\n",
    "\n",
    "        # 깃발 추가\n",
    "        flag_chart = add_flags(selected_param, selected_month, value_range)\n",
    "\n",
    "        # 두 차트 결합\n",
    "        chart = heatmap_chart + flag_chart\n",
    "\n",
    "        # 차트 표시\n",
    "        display(chart)\n",
    "    \n",
    "    # 깃발이 꽂힌 나라와 지역을 표 형식으로 출력\n",
    "    display_flagged_locations(selected_param, selected_month, value_range)\n",
    "\n",
    "# 이벤트 핸들러 등록\n",
    "param_dropdown.observe(update_plot_with_table, names='value')\n",
    "month_dropdown.observe(update_plot_with_table, names='value')\n",
    "slider.observe(update_plot_with_table, names='value')\n",
    "\n",
    "# UI 표시\n",
    "ui_with_table = widgets.VBox([param_dropdown, month_dropdown, slider, output, output_table])\n",
    "display(ui_with_table)\n",
    "\n",
    "# 초기 차트 및 표 표시\n",
    "update_plot_with_table()"
   ]
  },
  {
   "cell_type": "markdown",
   "metadata": {},
   "source": [
    "내가 가진 데이터프레임 df에는 Index(['Elem', 'Latitude', 'Longitude', 'Country', 'Station', 'Jan', 'Feb',\n",
    "       'Mar', 'Apr', 'May', 'Jun', 'Jul', 'Aug', 'Sep', 'Oct', 'Nov', 'Dec',\n",
    "       'Parameter'],\n",
    "      dtype='object')라는 열들이 있어.\n",
    "\n",
    "사용자가 먼저 month를 선택하면 데이터프레임에서 그 month에 대한 정보들만을 보는거야. 그래서 만약에 사용자가 맨처음에 3월을 골랐으면 데이터 프레임에서 Jan~Dec중에 Mar column의 값만 고려하는거지. 그리고 Parameter column에는 8개의 서로 다른 날씨에 대한 정보가 들어있어. param_map = {\n",
    "    1: 'Precipitation (mm)',\n",
    "    2: 'Number of Days with Precipitation ≥ 1 mm (#Days)',\n",
    "    3: 'Mean Daily Maximum Temperature (degC)',\n",
    "    4: 'Mean Daily Minimum Temperature (degC)',\n",
    "    5: 'Mean Daily Mean Temperature (degC)',\n",
    "    6: 'Mean Sea Level Pressure (hPa)',\n",
    "    7: 'Mean Vapor Pressure (hPa)',\n",
    "    8: 'Total Number of Hours of Sunshine (Hours)'\n",
    "} 이렇게 8가지야.\n",
    "\n",
    "그래서 만약에 Parameter가 Mean Vapor Pressure (hpa)인 행의 Mar column의 값은 3월의 Mean Vapor Pressure 값이야. 이런 상황에서 사용자가 슬라이더를 통해 각 Parameter의 범위를 설정하면, 데이터 중에서 그 달의 값이 그 범위 내에 속하는 데이터만 골라서 지도 위에 red flag로 표시하게 하고 싶어. \n",
    "\n",
    "모든 8개의 슬라이더 조건을 모두 만족하는 국가만 표시하고 지도 밑에 표로도 출력하게 하고 싶어."
   ]
  },
  {
   "cell_type": "code",
   "execution_count": null,
   "metadata": {},
   "outputs": [],
   "source": []
  },
  {
   "cell_type": "code",
   "execution_count": null,
   "metadata": {},
   "outputs": [],
   "source": []
  }
 ],
 "metadata": {
  "kernelspec": {
   "display_name": "dataviz",
   "language": "python",
   "name": "dataviz"
  },
  "language_info": {
   "codemirror_mode": {
    "name": "ipython",
    "version": 3
   },
   "file_extension": ".py",
   "mimetype": "text/x-python",
   "name": "python",
   "nbconvert_exporter": "python",
   "pygments_lexer": "ipython3",
   "version": "3.12.4"
  }
 },
 "nbformat": 4,
 "nbformat_minor": 2
}
