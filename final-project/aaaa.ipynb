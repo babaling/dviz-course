{
 "cells": [
  {
   "cell_type": "code",
   "execution_count": 1,
   "metadata": {},
   "outputs": [],
   "source": [
    "import pandas as pd\n",
    "import numpy as np\n",
    "import altair as alt\n",
    "from ipywidgets import interact, widgets\n",
    "from vega_datasets import data\n",
    "import pandas as pd\n",
    "import altair as alt\n",
    "from vega_datasets import data\n",
    "import ipywidgets as widgets\n",
    "from IPython.display import display\n",
    "from ipywidgets import Output\n",
    "\n",
    "df = pd.read_csv('data.csv')\n",
    "\n",
    "# Altair 데이터 변환 설정\n",
    "alt.data_transformers.disable_max_rows()\n",
    "\n",
    "param_map = {\n",
    "    1: 'Precipitation (mm)',\n",
    "    2: 'Number of Days with Precipitation ≥ 1 mm (#Days)',\n",
    "    3: 'Mean Daily Maximum Temperature (degC)',\n",
    "    4: 'Mean Daily Minimum Temperature (degC)',\n",
    "    5: 'Mean Daily Mean Temperature (degC)',\n",
    "    6: 'Mean Sea Level Pressure (hPa)',\n",
    "    7: 'Mean Vapor Pressure (hPa)',\n",
    "    8: 'Total Number of Hours of Sunshine (Hours)'\n",
    "}\n",
    "\n",
    "months = ['Jan', 'Feb', 'Mar', 'Apr', 'May', 'Jun', 'Jul', 'Aug', 'Sep', 'Oct', 'Nov', 'Dec']"
   ]
  },
  {
   "cell_type": "code",
   "execution_count": 2,
   "metadata": {},
   "outputs": [
    {
     "data": {
      "application/vnd.jupyter.widget-view+json": {
       "model_id": "0b295031606f4ce8b39d7e078e57bc4d",
       "version_major": 2,
       "version_minor": 0
      },
      "text/plain": [
       "interactive(children=(Dropdown(description='Parameter:', options=('Precipitation (mm)', 'Number of Days with P…"
      ]
     },
     "metadata": {},
     "output_type": "display_data"
    },
    {
     "data": {
      "text/plain": [
       "<function __main__.update(selected_param, selected_month)>"
      ]
     },
     "execution_count": 2,
     "metadata": {},
     "output_type": "execute_result"
    }
   ],
   "source": [
    "# Altair 지도 데이터\n",
    "world_map = alt.topo_feature(data.world_110m.url, feature=\"countries\")\n",
    "\n",
    "def plot_heatmap(selected_param, selected_month):\n",
    "    # 선택된 파라미터와 월 기준으로 데이터 필터링\n",
    "    filtered = df[df['Parameter'] == selected_param]\n",
    "\n",
    "    # Heatmap 생성\n",
    "    background = alt.Chart(world_map).mark_geoshape(\n",
    "        fill='lightgray',\n",
    "        stroke='white'\n",
    "    ).project('naturalEarth1').properties(\n",
    "        width=800,\n",
    "        height=400\n",
    "    )\n",
    "\n",
    "    heatmap = alt.Chart(filtered).mark_circle().encode(\n",
    "        longitude='Longitude:Q',\n",
    "        latitude='Latitude:Q',\n",
    "        color=alt.Color(f'{selected_month}:Q', scale=alt.Scale(scheme='viridis')),\n",
    "        size=alt.Size(f'{selected_month}:Q', title='Intensity'),\n",
    "        tooltip=[\n",
    "            'Station:N',                   # 지점 이름\n",
    "            'Country:N',                   # 국가 이름\n",
    "            'Latitude:Q',                  # 위도 추가\n",
    "            'Longitude:Q',                 # 경도 추가\n",
    "            alt.Tooltip(f'{selected_month}:Q', title=selected_param)  # 선택된 파라미터 값\n",
    "        ]\n",
    "    )\n",
    "\n",
    "    return background + heatmap\n",
    "\n",
    "# 파라미터 선택 위젯\n",
    "param_dropdown = widgets.Dropdown(\n",
    "    options=list(param_map.values()),\n",
    "    value='Precipitation (mm)',\n",
    "    description='Parameter:'\n",
    ")\n",
    "\n",
    "# 월 선택 위젯\n",
    "month_dropdown = widgets.Dropdown(\n",
    "    options=months,\n",
    "    value='Jan',\n",
    "    description='Month:'\n",
    ")\n",
    "\n",
    "def update(selected_param, selected_month):\n",
    "    chart = plot_heatmap(selected_param, selected_month)\n",
    "    chart.display()\n",
    "\n",
    "interact(\n",
    "    update,\n",
    "    selected_param=param_dropdown,\n",
    "    selected_month=month_dropdown,\n",
    ")"
   ]
  },
  {
   "cell_type": "code",
   "execution_count": 3,
   "metadata": {},
   "outputs": [
    {
     "data": {
      "application/vnd.jupyter.widget-view+json": {
       "model_id": "352b6c2c3e5d4e6290779322ce63f32d",
       "version_major": 2,
       "version_minor": 0
      },
      "text/plain": [
       "VBox(children=(Dropdown(description='Parameter:', options=('Precipitation (mm)', 'Number of Days with Precipit…"
      ]
     },
     "metadata": {},
     "output_type": "display_data"
    },
    {
     "data": {
      "application/vnd.jupyter.widget-view+json": {
       "model_id": "16dea426cc5240f7b2c3eb1943eec594",
       "version_major": 2,
       "version_minor": 0
      },
      "text/plain": [
       "Output()"
      ]
     },
     "metadata": {},
     "output_type": "display_data"
    }
   ],
   "source": [
    "# 필터링 슬라이더\n",
    "slider = widgets.FloatRangeSlider(\n",
    "    value=[0, 100],\n",
    "    min=0,\n",
    "    max=500,\n",
    "    step=1,\n",
    "    description='Filter:',\n",
    "    layout=widgets.Layout(width='80%')\n",
    ")\n",
    "\n",
    "# Output 위젯\n",
    "output = Output()\n",
    "\n",
    "# 최소/최대값 계산 함수\n",
    "def calculate_min_max(selected_param, selected_month):\n",
    "    filtered = df[df['Parameter'] == selected_param]\n",
    "    min_val = filtered[selected_month].min()\n",
    "    max_val = filtered[selected_month].max()\n",
    "    return min_val, max_val\n",
    "\n",
    "# 슬라이더 업데이트 함수\n",
    "def update_slider(selected_param, selected_month):\n",
    "    min_val, max_val = calculate_min_max(selected_param, selected_month)\n",
    "    slider.min = min_val\n",
    "    slider.max = max_val\n",
    "    slider.value = [min_val, max_val]\n",
    "\n",
    "# 깃발 추가 함수\n",
    "def add_flags(selected_param, selected_month, value_range):\n",
    "    min_val, max_val = value_range\n",
    "    filtered = df[\n",
    "        (df['Parameter'] == selected_param) &\n",
    "        (df[selected_month] >= min_val) &\n",
    "        (df[selected_month] <= max_val)\n",
    "    ]\n",
    "\n",
    "    points = alt.Chart(filtered).mark_text(text=\"🚩\", size=15, color='red').encode(\n",
    "        longitude='Longitude:Q',\n",
    "        latitude='Latitude:Q',\n",
    "        tooltip=[\n",
    "            'Station:N',                   # 지점 이름\n",
    "            'Country:N',                   # 국가 이름\n",
    "            'Latitude:Q',                  # 위도 추가\n",
    "            'Longitude:Q',                 # 경도 추가\n",
    "            alt.Tooltip(f'{selected_month}:Q', title=selected_param)  # 선택된 파라미터 값\n",
    "        ]\n",
    "    )\n",
    "\n",
    "    return points\n",
    "\n",
    "# 업데이트 함수\n",
    "def update_plot(change=None):\n",
    "    with output:\n",
    "        # Output 위젯 초기화\n",
    "        output.clear_output()\n",
    "        \n",
    "        # 현재 선택 상태\n",
    "        selected_param = param_dropdown.value\n",
    "        selected_month = month_dropdown.value\n",
    "        value_range = slider.value\n",
    "\n",
    "        # Heatmap 생성\n",
    "        heatmap_chart = plot_heatmap(selected_param, selected_month)\n",
    "\n",
    "        # 깃발 추가\n",
    "        flag_chart = add_flags(selected_param, selected_month, value_range)\n",
    "\n",
    "        # 두 차트 결합\n",
    "        chart = heatmap_chart + flag_chart\n",
    "\n",
    "        # 차트 표시\n",
    "        display(chart)\n",
    "\n",
    "# 이벤트 핸들러 등록\n",
    "param_dropdown.observe(update_plot, names='value')\n",
    "month_dropdown.observe(update_plot, names='value')\n",
    "slider.observe(update_plot, names='value')\n",
    "\n",
    "# 슬라이더 동적 업데이트\n",
    "def update_slider_on_change(change):\n",
    "    selected_param = param_dropdown.value\n",
    "    selected_month = month_dropdown.value\n",
    "    update_slider(selected_param, selected_month)\n",
    "\n",
    "param_dropdown.observe(update_slider_on_change, names='value')\n",
    "month_dropdown.observe(update_slider_on_change, names='value')\n",
    "\n",
    "# UI 표시\n",
    "ui = widgets.VBox([param_dropdown, month_dropdown, slider])\n",
    "display(ui, output)\n",
    "\n",
    "# 초기 차트 표시\n",
    "update_plot()"
   ]
  },
  {
   "cell_type": "code",
   "execution_count": null,
   "metadata": {},
   "outputs": [],
   "source": []
  }
 ],
 "metadata": {
  "kernelspec": {
   "display_name": "dataviz",
   "language": "python",
   "name": "dataviz"
  },
  "language_info": {
   "codemirror_mode": {
    "name": "ipython",
    "version": 3
   },
   "file_extension": ".py",
   "mimetype": "text/x-python",
   "name": "python",
   "nbconvert_exporter": "python",
   "pygments_lexer": "ipython3",
   "version": "3.12.4"
  }
 },
 "nbformat": 4,
 "nbformat_minor": 2
}
