{
 "cells": [
  {
   "attachments": {},
   "cell_type": "markdown",
   "metadata": {},
   "source": [
    "## Module 1: Python Environment Setup\n",
    "\n",
    "Jihye Shin\n",
    "\n",
    "09/02/2024"
   ]
  },
  {
   "cell_type": "code",
   "execution_count": 6,
   "metadata": {},
   "outputs": [
    {
     "name": "stdout",
     "output_type": "stream",
     "text": [
      "Requirement already satisfied: numpy in /home/shinjih/miniconda3/envs/dataviz/lib/python3.12/site-packages (1.26.4)\n",
      "Requirement already satisfied: scipy in /home/shinjih/miniconda3/envs/dataviz/lib/python3.12/site-packages (1.14.1)\n",
      "Requirement already satisfied: matplotlib in /home/shinjih/miniconda3/envs/dataviz/lib/python3.12/site-packages (3.9.2)\n",
      "Requirement already satisfied: seaborn in /home/shinjih/miniconda3/envs/dataviz/lib/python3.12/site-packages (0.13.2)\n",
      "Requirement already satisfied: pandas in /home/shinjih/miniconda3/envs/dataviz/lib/python3.12/site-packages (2.2.2)\n",
      "Requirement already satisfied: altair in /home/shinjih/miniconda3/envs/dataviz/lib/python3.12/site-packages (5.4.1)\n",
      "Requirement already satisfied: vega_datasets in /home/shinjih/miniconda3/envs/dataviz/lib/python3.12/site-packages (0.9.0)\n",
      "Requirement already satisfied: scikit-learn in /home/shinjih/miniconda3/envs/dataviz/lib/python3.12/site-packages (1.5.1)\n",
      "Requirement already satisfied: bokeh in /home/shinjih/miniconda3/envs/dataviz/lib/python3.12/site-packages (3.4.3)\n",
      "Requirement already satisfied: datashader in /home/shinjih/miniconda3/envs/dataviz/lib/python3.12/site-packages (0.16.3)\n",
      "Requirement already satisfied: holoviews in /home/shinjih/miniconda3/envs/dataviz/lib/python3.12/site-packages (1.19.1)\n",
      "Requirement already satisfied: wordcloud in /home/shinjih/miniconda3/envs/dataviz/lib/python3.12/site-packages (1.9.3)\n",
      "Requirement already satisfied: spacy in /home/shinjih/miniconda3/envs/dataviz/lib/python3.12/site-packages (3.7.6)\n",
      "Requirement already satisfied: contourpy>=1.0.1 in /home/shinjih/miniconda3/envs/dataviz/lib/python3.12/site-packages (from matplotlib) (1.3.0)\n",
      "Requirement already satisfied: cycler>=0.10 in /home/shinjih/miniconda3/envs/dataviz/lib/python3.12/site-packages (from matplotlib) (0.12.1)\n",
      "Requirement already satisfied: fonttools>=4.22.0 in /home/shinjih/miniconda3/envs/dataviz/lib/python3.12/site-packages (from matplotlib) (4.53.1)\n",
      "Requirement already satisfied: kiwisolver>=1.3.1 in /home/shinjih/miniconda3/envs/dataviz/lib/python3.12/site-packages (from matplotlib) (1.4.5)\n",
      "Requirement already satisfied: packaging>=20.0 in /home/shinjih/miniconda3/envs/dataviz/lib/python3.12/site-packages (from matplotlib) (24.1)\n",
      "Requirement already satisfied: pillow>=8 in /home/shinjih/miniconda3/envs/dataviz/lib/python3.12/site-packages (from matplotlib) (10.4.0)\n",
      "Requirement already satisfied: pyparsing>=2.3.1 in /home/shinjih/miniconda3/envs/dataviz/lib/python3.12/site-packages (from matplotlib) (3.1.4)\n",
      "Requirement already satisfied: python-dateutil>=2.7 in /home/shinjih/miniconda3/envs/dataviz/lib/python3.12/site-packages (from matplotlib) (2.9.0.post0)\n",
      "Requirement already satisfied: pytz>=2020.1 in /home/shinjih/miniconda3/envs/dataviz/lib/python3.12/site-packages (from pandas) (2024.1)\n",
      "Requirement already satisfied: tzdata>=2022.7 in /home/shinjih/miniconda3/envs/dataviz/lib/python3.12/site-packages (from pandas) (2024.1)\n",
      "Requirement already satisfied: jinja2 in /home/shinjih/miniconda3/envs/dataviz/lib/python3.12/site-packages (from altair) (3.1.4)\n",
      "Requirement already satisfied: jsonschema>=3.0 in /home/shinjih/miniconda3/envs/dataviz/lib/python3.12/site-packages (from altair) (4.23.0)\n",
      "Requirement already satisfied: narwhals>=1.5.2 in /home/shinjih/miniconda3/envs/dataviz/lib/python3.12/site-packages (from altair) (1.6.0)\n",
      "Requirement already satisfied: typing-extensions>=4.10.0 in /home/shinjih/miniconda3/envs/dataviz/lib/python3.12/site-packages (from altair) (4.12.2)\n",
      "Requirement already satisfied: joblib>=1.2.0 in /home/shinjih/miniconda3/envs/dataviz/lib/python3.12/site-packages (from scikit-learn) (1.4.2)\n",
      "Requirement already satisfied: threadpoolctl>=3.1.0 in /home/shinjih/miniconda3/envs/dataviz/lib/python3.12/site-packages (from scikit-learn) (3.5.0)\n",
      "Requirement already satisfied: PyYAML>=3.10 in /home/shinjih/miniconda3/envs/dataviz/lib/python3.12/site-packages (from bokeh) (6.0.2)\n",
      "Requirement already satisfied: tornado>=6.2 in /home/shinjih/miniconda3/envs/dataviz/lib/python3.12/site-packages (from bokeh) (6.4.1)\n",
      "Requirement already satisfied: xyzservices>=2021.09.1 in /home/shinjih/miniconda3/envs/dataviz/lib/python3.12/site-packages (from bokeh) (2024.6.0)\n",
      "Requirement already satisfied: colorcet in /home/shinjih/miniconda3/envs/dataviz/lib/python3.12/site-packages (from datashader) (3.1.0)\n",
      "Requirement already satisfied: dask in /home/shinjih/miniconda3/envs/dataviz/lib/python3.12/site-packages (from datashader) (2024.8.2)\n",
      "Requirement already satisfied: multipledispatch in /home/shinjih/miniconda3/envs/dataviz/lib/python3.12/site-packages (from datashader) (1.0.0)\n",
      "Requirement already satisfied: numba in /home/shinjih/miniconda3/envs/dataviz/lib/python3.12/site-packages (from datashader) (0.60.0)\n",
      "Requirement already satisfied: param in /home/shinjih/miniconda3/envs/dataviz/lib/python3.12/site-packages (from datashader) (2.1.1)\n",
      "Requirement already satisfied: pyct in /home/shinjih/miniconda3/envs/dataviz/lib/python3.12/site-packages (from datashader) (0.5.0)\n",
      "Requirement already satisfied: requests in /home/shinjih/miniconda3/envs/dataviz/lib/python3.12/site-packages (from datashader) (2.32.3)\n",
      "Requirement already satisfied: toolz in /home/shinjih/miniconda3/envs/dataviz/lib/python3.12/site-packages (from datashader) (0.12.1)\n",
      "Requirement already satisfied: xarray in /home/shinjih/miniconda3/envs/dataviz/lib/python3.12/site-packages (from datashader) (2024.7.0)\n",
      "Requirement already satisfied: panel>=1.0 in /home/shinjih/miniconda3/envs/dataviz/lib/python3.12/site-packages (from holoviews) (1.4.5)\n",
      "Requirement already satisfied: pyviz-comms>=2.1 in /home/shinjih/miniconda3/envs/dataviz/lib/python3.12/site-packages (from holoviews) (3.0.3)\n",
      "Requirement already satisfied: spacy-legacy<3.1.0,>=3.0.11 in /home/shinjih/miniconda3/envs/dataviz/lib/python3.12/site-packages (from spacy) (3.0.12)\n",
      "Requirement already satisfied: spacy-loggers<2.0.0,>=1.0.0 in /home/shinjih/miniconda3/envs/dataviz/lib/python3.12/site-packages (from spacy) (1.0.5)\n",
      "Requirement already satisfied: murmurhash<1.1.0,>=0.28.0 in /home/shinjih/miniconda3/envs/dataviz/lib/python3.12/site-packages (from spacy) (1.0.10)\n",
      "Requirement already satisfied: cymem<2.1.0,>=2.0.2 in /home/shinjih/miniconda3/envs/dataviz/lib/python3.12/site-packages (from spacy) (2.0.8)\n",
      "Requirement already satisfied: preshed<3.1.0,>=3.0.2 in /home/shinjih/miniconda3/envs/dataviz/lib/python3.12/site-packages (from spacy) (3.0.9)\n",
      "Requirement already satisfied: thinc<8.3.0,>=8.2.2 in /home/shinjih/miniconda3/envs/dataviz/lib/python3.12/site-packages (from spacy) (8.2.5)\n",
      "Requirement already satisfied: wasabi<1.2.0,>=0.9.1 in /home/shinjih/miniconda3/envs/dataviz/lib/python3.12/site-packages (from spacy) (1.1.3)\n",
      "Requirement already satisfied: srsly<3.0.0,>=2.4.3 in /home/shinjih/miniconda3/envs/dataviz/lib/python3.12/site-packages (from spacy) (2.4.8)\n",
      "Requirement already satisfied: catalogue<2.1.0,>=2.0.6 in /home/shinjih/miniconda3/envs/dataviz/lib/python3.12/site-packages (from spacy) (2.0.10)\n",
      "Requirement already satisfied: weasel<0.5.0,>=0.1.0 in /home/shinjih/miniconda3/envs/dataviz/lib/python3.12/site-packages (from spacy) (0.4.1)\n",
      "Requirement already satisfied: typer<1.0.0,>=0.3.0 in /home/shinjih/miniconda3/envs/dataviz/lib/python3.12/site-packages (from spacy) (0.12.5)\n",
      "Requirement already satisfied: tqdm<5.0.0,>=4.38.0 in /home/shinjih/miniconda3/envs/dataviz/lib/python3.12/site-packages (from spacy) (4.66.5)\n",
      "Requirement already satisfied: pydantic!=1.8,!=1.8.1,<3.0.0,>=1.7.4 in /home/shinjih/miniconda3/envs/dataviz/lib/python3.12/site-packages (from spacy) (2.8.2)\n",
      "Requirement already satisfied: setuptools in /home/shinjih/miniconda3/envs/dataviz/lib/python3.12/site-packages (from spacy) (72.1.0)\n",
      "Requirement already satisfied: langcodes<4.0.0,>=3.2.0 in /home/shinjih/miniconda3/envs/dataviz/lib/python3.12/site-packages (from spacy) (3.4.0)\n",
      "Requirement already satisfied: MarkupSafe>=2.0 in /home/shinjih/miniconda3/envs/dataviz/lib/python3.12/site-packages (from jinja2->altair) (2.1.5)\n",
      "Requirement already satisfied: attrs>=22.2.0 in /home/shinjih/miniconda3/envs/dataviz/lib/python3.12/site-packages (from jsonschema>=3.0->altair) (24.2.0)\n",
      "Requirement already satisfied: jsonschema-specifications>=2023.03.6 in /home/shinjih/miniconda3/envs/dataviz/lib/python3.12/site-packages (from jsonschema>=3.0->altair) (2023.12.1)\n",
      "Requirement already satisfied: referencing>=0.28.4 in /home/shinjih/miniconda3/envs/dataviz/lib/python3.12/site-packages (from jsonschema>=3.0->altair) (0.35.1)\n",
      "Requirement already satisfied: rpds-py>=0.7.1 in /home/shinjih/miniconda3/envs/dataviz/lib/python3.12/site-packages (from jsonschema>=3.0->altair) (0.20.0)\n",
      "Requirement already satisfied: language-data>=1.2 in /home/shinjih/miniconda3/envs/dataviz/lib/python3.12/site-packages (from langcodes<4.0.0,>=3.2.0->spacy) (1.2.0)\n",
      "Requirement already satisfied: markdown in /home/shinjih/miniconda3/envs/dataviz/lib/python3.12/site-packages (from panel>=1.0->holoviews) (3.7)\n",
      "Requirement already satisfied: markdown-it-py in /home/shinjih/miniconda3/envs/dataviz/lib/python3.12/site-packages (from panel>=1.0->holoviews) (3.0.0)\n",
      "Requirement already satisfied: linkify-it-py in /home/shinjih/miniconda3/envs/dataviz/lib/python3.12/site-packages (from panel>=1.0->holoviews) (2.0.3)\n",
      "Requirement already satisfied: mdit-py-plugins in /home/shinjih/miniconda3/envs/dataviz/lib/python3.12/site-packages (from panel>=1.0->holoviews) (0.4.1)\n",
      "Requirement already satisfied: bleach in /home/shinjih/miniconda3/envs/dataviz/lib/python3.12/site-packages (from panel>=1.0->holoviews) (6.1.0)\n",
      "Requirement already satisfied: annotated-types>=0.4.0 in /home/shinjih/miniconda3/envs/dataviz/lib/python3.12/site-packages (from pydantic!=1.8,!=1.8.1,<3.0.0,>=1.7.4->spacy) (0.7.0)\n",
      "Requirement already satisfied: pydantic-core==2.20.1 in /home/shinjih/miniconda3/envs/dataviz/lib/python3.12/site-packages (from pydantic!=1.8,!=1.8.1,<3.0.0,>=1.7.4->spacy) (2.20.1)\n",
      "Requirement already satisfied: six>=1.5 in /home/shinjih/miniconda3/envs/dataviz/lib/python3.12/site-packages (from python-dateutil>=2.7->matplotlib) (1.16.0)\n",
      "Requirement already satisfied: charset-normalizer<4,>=2 in /home/shinjih/miniconda3/envs/dataviz/lib/python3.12/site-packages (from requests->datashader) (3.3.2)\n",
      "Requirement already satisfied: idna<4,>=2.5 in /home/shinjih/miniconda3/envs/dataviz/lib/python3.12/site-packages (from requests->datashader) (3.8)\n",
      "Requirement already satisfied: urllib3<3,>=1.21.1 in /home/shinjih/miniconda3/envs/dataviz/lib/python3.12/site-packages (from requests->datashader) (2.2.2)\n",
      "Requirement already satisfied: certifi>=2017.4.17 in /home/shinjih/miniconda3/envs/dataviz/lib/python3.12/site-packages (from requests->datashader) (2024.8.30)\n",
      "Requirement already satisfied: blis<0.8.0,>=0.7.8 in /home/shinjih/miniconda3/envs/dataviz/lib/python3.12/site-packages (from thinc<8.3.0,>=8.2.2->spacy) (0.7.11)\n",
      "Requirement already satisfied: confection<1.0.0,>=0.0.1 in /home/shinjih/miniconda3/envs/dataviz/lib/python3.12/site-packages (from thinc<8.3.0,>=8.2.2->spacy) (0.1.5)\n",
      "Requirement already satisfied: click>=8.0.0 in /home/shinjih/miniconda3/envs/dataviz/lib/python3.12/site-packages (from typer<1.0.0,>=0.3.0->spacy) (8.1.7)\n",
      "Requirement already satisfied: shellingham>=1.3.0 in /home/shinjih/miniconda3/envs/dataviz/lib/python3.12/site-packages (from typer<1.0.0,>=0.3.0->spacy) (1.5.4)\n",
      "Requirement already satisfied: rich>=10.11.0 in /home/shinjih/miniconda3/envs/dataviz/lib/python3.12/site-packages (from typer<1.0.0,>=0.3.0->spacy) (13.8.0)\n",
      "Requirement already satisfied: cloudpathlib<1.0.0,>=0.7.0 in /home/shinjih/miniconda3/envs/dataviz/lib/python3.12/site-packages (from weasel<0.5.0,>=0.1.0->spacy) (0.19.0)\n",
      "Requirement already satisfied: smart-open<8.0.0,>=5.2.1 in /home/shinjih/miniconda3/envs/dataviz/lib/python3.12/site-packages (from weasel<0.5.0,>=0.1.0->spacy) (7.0.4)\n",
      "Requirement already satisfied: cloudpickle>=3.0.0 in /home/shinjih/miniconda3/envs/dataviz/lib/python3.12/site-packages (from dask->datashader) (3.0.0)\n",
      "Requirement already satisfied: fsspec>=2021.09.0 in /home/shinjih/miniconda3/envs/dataviz/lib/python3.12/site-packages (from dask->datashader) (2024.6.1)\n",
      "Requirement already satisfied: partd>=1.4.0 in /home/shinjih/miniconda3/envs/dataviz/lib/python3.12/site-packages (from dask->datashader) (1.4.2)\n",
      "Requirement already satisfied: llvmlite<0.44,>=0.43.0dev0 in /home/shinjih/miniconda3/envs/dataviz/lib/python3.12/site-packages (from numba->datashader) (0.43.0)\n",
      "Requirement already satisfied: marisa-trie>=0.7.7 in /home/shinjih/miniconda3/envs/dataviz/lib/python3.12/site-packages (from language-data>=1.2->langcodes<4.0.0,>=3.2.0->spacy) (1.2.0)\n",
      "Requirement already satisfied: locket in /home/shinjih/miniconda3/envs/dataviz/lib/python3.12/site-packages (from partd>=1.4.0->dask->datashader) (1.0.0)\n",
      "Requirement already satisfied: pygments<3.0.0,>=2.13.0 in /home/shinjih/miniconda3/envs/dataviz/lib/python3.12/site-packages (from rich>=10.11.0->typer<1.0.0,>=0.3.0->spacy) (2.18.0)\n",
      "Requirement already satisfied: mdurl~=0.1 in /home/shinjih/miniconda3/envs/dataviz/lib/python3.12/site-packages (from markdown-it-py->panel>=1.0->holoviews) (0.1.2)\n",
      "Requirement already satisfied: wrapt in /home/shinjih/miniconda3/envs/dataviz/lib/python3.12/site-packages (from smart-open<8.0.0,>=5.2.1->weasel<0.5.0,>=0.1.0->spacy) (1.16.0)\n",
      "Requirement already satisfied: webencodings in /home/shinjih/miniconda3/envs/dataviz/lib/python3.12/site-packages (from bleach->panel>=1.0->holoviews) (0.5.1)\n",
      "Requirement already satisfied: uc-micro-py in /home/shinjih/miniconda3/envs/dataviz/lib/python3.12/site-packages (from linkify-it-py->panel>=1.0->holoviews) (1.0.3)\n"
     ]
    }
   ],
   "source": [
    "!pip install numpy scipy matplotlib seaborn pandas altair vega_datasets scikit-learn bokeh datashader holoviews wordcloud spacy"
   ]
  },
  {
   "cell_type": "code",
   "execution_count": 9,
   "metadata": {},
   "outputs": [
    {
     "name": "stderr",
     "output_type": "stream",
     "text": [
      "/home/shinjih/miniconda3/envs/dataviz/lib/python3.12/site-packages/dask/dataframe/__init__.py:42: FutureWarning: \n",
      "Dask dataframe query planning is disabled because dask-expr is not installed.\n",
      "\n",
      "You can install it with `pip install dask[dataframe]` or `conda install dask`.\n",
      "This will raise in a future version.\n",
      "\n",
      "  warnings.warn(msg, FutureWarning)\n"
     ]
    }
   ],
   "source": [
    "import numpy\n",
    "import scipy\n",
    "import matplotlib\n",
    "import seaborn\n",
    "import pandas\n",
    "import altair\n",
    "import vega_datasets\n",
    "# import scikit-learn\n",
    "import sklearn\n",
    "import bokeh\n",
    "import datashader\n",
    "import holoviews\n",
    "import wordcloud\n",
    "import spacy"
   ]
  },
  {
   "cell_type": "code",
   "execution_count": 8,
   "metadata": {},
   "outputs": [
    {
     "name": "stdout",
     "output_type": "stream",
     "text": [
      "Hello World!\n"
     ]
    }
   ],
   "source": [
    "print('Hello World!')"
   ]
  }
 ],
 "metadata": {
  "kernelspec": {
   "display_name": "dataviz",
   "language": "python",
   "name": "python3"
  },
  "language_info": {
   "codemirror_mode": {
    "name": "ipython",
    "version": 3
   },
   "file_extension": ".py",
   "mimetype": "text/x-python",
   "name": "python",
   "nbconvert_exporter": "python",
   "pygments_lexer": "ipython3",
   "version": "3.12.4 | packaged by Anaconda, Inc. | (main, Jun 18 2024, 15:12:24) [GCC 11.2.0]"
  },
  "vscode": {
   "interpreter": {
    "hash": "5ccaab3419b75afd8fb0e52314f66c003343f06e08f94c4fa93011fe0d27dcc3"
   }
  }
 },
 "nbformat": 4,
 "nbformat_minor": 2
}
